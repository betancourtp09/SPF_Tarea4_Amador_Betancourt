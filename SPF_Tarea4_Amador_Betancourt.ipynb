{
 "cells": [
  {
   "cell_type": "markdown",
   "metadata": {},
   "source": [
    "<img style=\"float: left; margin: 30px 15px 15px 15px;\" src=\"https://pngimage.net/wp-content/uploads/2018/06/logo-iteso-png-5.png\" width=\"300\" height=\"500\" /> \n",
    "    \n",
    "    \n",
    "### <font color='navy'> Simulación de procesos financieros. \n",
    "\n",
    "**Nombres:** Fernanda Amador, Ragnar Betancourt\n",
    "\n",
    "**Fecha:** 21 de Septiembre 2021.\n",
    "\n",
    "**Expediente** : 717467, 725573.\n",
    " \n",
    "**Profesor:** Oscar David Jaramillo Zuluaga.\n",
    "    \n",
    "**Link Github**: https://github.com/betancourtp09/SPF_Tarea4_Amador_Betancourt\n",
    "# Tarea 4: Clase 7"
   ]
  },
  {
   "cell_type": "markdown",
   "metadata": {},
   "source": [
    "## Tarea\n",
    "\n",
    "## 1.\n",
    "Como ejemplo simple de una simulación de Monte Carlo, considere calcular la probabilidad de una suma particular del lanzamiento de tres dados (cada dado tiene valores del uno al seis). Además cada dado tiene las siguientes carácterísticas: el primer dado no está cargado (distribución uniforme todos son equiprobables); el segundo y tercer dado están cargados basados en una distribución binomial con parámetros (`n=5, p=0.5` y `n=5, p=0.2`). Calcule la probabilidad de que la suma resultante sea 7, 14 o 18."
   ]
  },
  {
   "cell_type": "code",
   "execution_count": 4,
   "metadata": {},
   "outputs": [],
   "source": [
    "import numpy as np\n",
    "import matplotlib.pyplot as plt\n",
    "import pandas as pd\n",
    "import os\n",
    "import scipy.stats as st"
   ]
  },
  {
   "cell_type": "code",
   "execution_count": 2,
   "metadata": {},
   "outputs": [],
   "source": [
    "# Respuesta solución 1 Betancourt"
   ]
  },
  {
   "cell_type": "code",
   "execution_count": 7,
   "metadata": {},
   "outputs": [
    {
     "data": {
      "text/plain": [
       "(0.1607, 0.001, 0.0)"
      ]
     },
     "execution_count": 7,
     "metadata": {},
     "output_type": "execute_result"
    }
   ],
   "source": [
    "# Respuesta solución 1 Amador\n",
    "n = 10000\n",
    "d_1 = np.random.randint(1, 7, 10000)\n",
    "d_2 = st.binom(n = 5, p = 0.5).rvs(size = 10000)\n",
    "d_3 = st.binom(n = 5, p = 0.2).rvs(size = 10000)\n",
    "suma = d_1 + d_2 + d_3\n",
    "\n",
    "p_7 = sum(list(map(lambda x: 1 if x == 7 else 0, suma))) / n\n",
    "p_14 = sum(list(map(lambda x: 1 if x == 14 else 0, suma))) / n\n",
    "p_18 = sum(list(map(lambda x: 1 if x == 18 else 0, suma))) / n\n",
    "\n",
    "p_7, p_14, p_18"
   ]
  },
  {
   "cell_type": "markdown",
   "metadata": {},
   "source": [
    "## 2. \n",
    "\n",
    "Ejercicio de aplicación- Cafetería Central\n",
    "\n",
    "Premisas para la simulación:\n",
    "- Negocio de alimentos que vende bebidas y alimentos.\n",
    "- Negocio dentro del ITESO.\n",
    "- Negocio en cafetería central.\n",
    "- Tipo de clientes (hombres y mujeres).\n",
    "- Rentabilidad del 60%.\n",
    "\n",
    "## Objetivo\n",
    "Realizar una simulación estimado el tiempo medio que se tardaran los clientes en ser atendidos entre el horario de 6:30 a 1 pm. Además saber el consumo. \n",
    "**Analizar supuestos y limitantes**\n",
    "\n",
    "## Supuestos en simulación\n",
    "Clasificación de clientes: \n",
    "- Mujer  = 1 $\\longrightarrow$ aleatorio < 0.5\n",
    "- Hombre = 0 $\\longrightarrow$ aleatorio $\\geq$ 0.5.\n",
    "\n",
    "Condiciones iniciales:\n",
    "- Todas las distrubuciones de probabilidad se supondrán uniformes.\n",
    "- Tiempo de simulación: 6:30 am - 1:30pm $\\longrightarrow$ T = 7 horas = 25200 seg.\n",
    "- Tiempo de llegada hasta ser atendido: Min=5seg, Max=30seg.\n",
    "- Tiempo que tardan los clientes en ser atendidos:\n",
    "    - Mujer: Min = 1 min= 60seg, Max = 5 min = 300 seg\n",
    "    - Hombre: Min = 40 seg, Max = 2 min= 120 seg\n",
    "- Consumo según el tipo de cliente:\n",
    "    - Mujer: Min = 30 pesos, Max = 100 pesos\n",
    "    - Hombre: Min = 20 pesos, Max = 80 pesos\n",
    "\n",
    "Responder las siguientes preguntas basados en los datos del problema:\n",
    "1. ¿Cuáles fueron los gastos de los hombres y las mujeres en 5 días de trabajo?.\n",
    "2. ¿Cuál fue el consumo promedio de los hombres y mujeres?\n",
    "3. ¿Cuál fue el número de personas atendidas por día?\n",
    "4. ¿Cuál fue el tiempo de atención promedio?\n",
    "5. ¿Cuánto fue la ganancia promedio de la cafetería en 5 días de trabajo y su respectiva rentabilidad?"
   ]
  },
  {
   "cell_type": "code",
   "execution_count": 12,
   "metadata": {},
   "outputs": [],
   "source": [
    "################## Datos del problema\n",
    "d = 5\n",
    "T =25200\n",
    "T_at_min = 5; T_at_max = 30\n",
    "T_mujer_min =60; T_mujer_max = 300\n",
    "T_hombre_min = 40; T_hombre_max = 120\n",
    "C_mujer_min = 30; C_mujer_max = 100\n",
    "C_hombre_min = 20; C_hombre_max = 80"
   ]
  },
  {
   "cell_type": "code",
   "execution_count": null,
   "metadata": {},
   "outputs": [],
   "source": [
    "#Respuesta solución 2 Betancourt"
   ]
  },
  {
   "cell_type": "code",
   "execution_count": 17,
   "metadata": {},
   "outputs": [
    {
     "name": "stdout",
     "output_type": "stream",
     "text": [
      "El gasto total de hombres fue: 4575.077310760763 y el de las mujeres fue: 5546.649103043847\n",
      "El gasto promedio de hombres fue: 48.67103522085918 y el de las mujeres fue: 67.64206223224204\n",
      "Las personas atendidas por día fueron: 176.0\n",
      "El tiempo de atención promedio fue de: 144.08755142155835\n",
      "La ganacia promedio fue de  30365.17924141383\n"
     ]
    }
   ],
   "source": [
    "#Respuesta solución 2 Amador\n",
    "def cafe_central(P,T):\n",
    "    total = 0\n",
    "    cont = 0\n",
    "    F = 0\n",
    "    M = 0\n",
    "    consumptionM = 0\n",
    "    consumptionF = 0\n",
    "    Total = []\n",
    "    \n",
    "    while total <= T:\n",
    "        t_0 = np.random.uniform(T_at_min, T_at_max)\n",
    "        total += t_0\n",
    "        if P[cont] < 0.5:\n",
    "            t_a = np.random.uniform(T_mujer_min, T_mujer_max)\n",
    "            total += t_a\n",
    "            F += 1 \n",
    "            consumptionF += np.random.uniform(C_mujer_min, C_mujer_max)\n",
    "            \n",
    "        else:\n",
    "            t_a = np.random.uniform(T_hombre_min, T_hombre_max)\n",
    "            total += t_a\n",
    "            M += 1\n",
    "            consumptionM += np.random.uniform(C_hombre_min, C_hombre_max)\n",
    "            \n",
    "        cont += 1\n",
    "        Total.append(t_a)\n",
    "    \n",
    "    return np.array([consumptionM, consumptionF, \n",
    "                     consumptionF / F, consumptionM / M,\n",
    "                    cont, total / cont, (consumptionM + consumptionF) * 0.6 * 5])\n",
    "\n",
    "\n",
    "resp = cafe_central(np.random.rand(100000), T)\n",
    "print(\"El gasto total de hombres fue:\", resp[0],\"y el de las mujeres fue:\",resp[1])\n",
    "print(\"El gasto promedio de hombres fue:\", resp[3],\"y el de las mujeres fue:\",resp[2])\n",
    "print(\"Las personas atendidas por día fueron:\", resp[4])\n",
    "print(\"El tiempo de atención promedio fue de:\",resp[5])\n",
    "print(\"La ganacia promedio fue de \", resp[6])"
   ]
  }
 ],
 "metadata": {
  "kernelspec": {
   "display_name": "Python 3",
   "language": "python",
   "name": "python3"
  },
  "language_info": {
   "codemirror_mode": {
    "name": "ipython",
    "version": 3
   },
   "file_extension": ".py",
   "mimetype": "text/x-python",
   "name": "python",
   "nbconvert_exporter": "python",
   "pygments_lexer": "ipython3",
   "version": "3.8.3"
  }
 },
 "nbformat": 4,
 "nbformat_minor": 5
}
