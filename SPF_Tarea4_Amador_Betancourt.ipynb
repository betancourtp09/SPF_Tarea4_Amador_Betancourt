{
 "cells": [
  {
   "cell_type": "markdown",
   "id": "f97bea11",
   "metadata": {},
   "source": [
    "<img style=\"float: left; margin: 30px 15px 15px 15px;\" src=\"https://pngimage.net/wp-content/uploads/2018/06/logo-iteso-png-5.png\" width=\"300\" height=\"500\" /> \n",
    "    \n",
    "    \n",
    "### <font color='navy'> Simulación de procesos financieros. \n",
    "\n",
    "**Nombres:** Fernanda Amador, Ragnar Betancourt\n",
    "\n",
    "**Fecha:** 20 de Septiembre 2021.\n",
    "\n",
    "**Expediente** : 717467, 725573.\n",
    " \n",
    "**Profesor:** Oscar David Jaramillo Zuluaga.\n",
    "    \n",
    "**Link Github**: https://github.com/betancourtp09/SPF_Tarea4_Amador_Betancourt\n",
    "# Tarea 4: Clase 7"
   ]
  },
  {
   "cell_type": "markdown",
   "id": "c979c249",
   "metadata": {},
   "source": [
    "## Tarea\n",
    "\n",
    "\n",
    "Como ejemplo simple de una simulación de Monte Carlo, considere calcular la probabilidad de una suma particular del lanzamiento de tres dados (cada dado tiene valores del uno al seis). Además cada dado tiene las siguientes carácterísticas: el primer dado no está cargado (distribución uniforme todos son equiprobables); el segundo y tercer dado están cargados basados en una distribución binomial con parámetros (`n=5, p=0.5` y `n=5, p=0.2`). Calcule la probabilidad de que la suma resultante sea 7, 14 o 18. "
   ]
  },
  {
   "cell_type": "code",
   "execution_count": null,
   "id": "f97ba702",
   "metadata": {},
   "outputs": [],
   "source": [
    "#Respuesta Betancourt"
   ]
  },
  {
   "cell_type": "code",
   "execution_count": null,
   "id": "e270be20",
   "metadata": {},
   "outputs": [],
   "source": [
    "#Respuesta Amador"
   ]
  }
 ],
 "metadata": {
  "kernelspec": {
   "display_name": "Python 3",
   "language": "python",
   "name": "python3"
  },
  "language_info": {
   "codemirror_mode": {
    "name": "ipython",
    "version": 3
   },
   "file_extension": ".py",
   "mimetype": "text/x-python",
   "name": "python",
   "nbconvert_exporter": "python",
   "pygments_lexer": "ipython3",
   "version": "3.8.8"
  }
 },
 "nbformat": 4,
 "nbformat_minor": 5
}
